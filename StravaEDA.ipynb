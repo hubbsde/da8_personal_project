{
 "cells": [
  {
   "cell_type": "code",
   "execution_count": 36,
   "metadata": {},
   "outputs": [],
   "source": [
    "import pandas as pd\n",
    "import numpy as np\n",
    "from datetime import datetime"
   ]
  },
  {
   "cell_type": "markdown",
   "metadata": {},
   "source": [
    "# Personal Strava EDA  \n",
    "\n",
    "Write introduction and author here..."
   ]
  },
  {
   "cell_type": "markdown",
   "metadata": {},
   "source": [
    "Write about `data` and attributes here..."
   ]
  },
  {
   "cell_type": "code",
   "execution_count": 37,
   "metadata": {},
   "outputs": [],
   "source": [
    "df = pd.read_csv(\"devyn_strava_activities.csv\")"
   ]
  },
  {
   "cell_type": "markdown",
   "metadata": {},
   "source": [
    "## Cleaning the Data  \n",
    "\n",
    "Write the ways in which you are cleaning the data...  \n",
    "* For right now, I am not worrying about times because they are not correct (IDK what timezone they are in)"
   ]
  },
  {
   "cell_type": "code",
   "execution_count": null,
   "metadata": {},
   "outputs": [
    {
     "name": "stdout",
     "output_type": "stream",
     "text": [
      "0     2024-05-13\n",
      "1     2024-06-10\n",
      "2     2024-06-11\n",
      "3     2024-06-11\n",
      "4     2024-06-12\n",
      "         ...    \n",
      "153   2025-02-16\n",
      "154   2025-02-16\n",
      "155   2025-02-17\n",
      "156   2025-02-17\n",
      "157   2025-02-17\n",
      "Name: Activity Date, Length: 158, dtype: datetime64[ns]\n"
     ]
    },
    {
     "name": "stderr",
     "output_type": "stream",
     "text": [
      "/var/folders/v1/y4hhmnjs1x72zr2lddjwt7sc0000gn/T/ipykernel_62250/39466132.py:48: FutureWarning: Downcasting behavior in `replace` is deprecated and will be removed in a future version. To retain the old behavior, explicitly call `result.infer_objects(copy=False)`. To opt-in to the future behavior, set `pd.set_option('future.no_silent_downcasting', True)`\n",
      "  df_cleaned[\"Activity Date\"] = df_cleaned[\"Activity Date\"].replace(date, date_obj)\n"
     ]
    }
   ],
   "source": [
    "\n",
    "df_columns = df.columns\n",
    "df_cleaned = df.copy()\n",
    "exception_count = 0\n",
    "\n",
    "# Deleting columns without enough information\n",
    "for column in df_columns:\n",
    "\n",
    "    try:\n",
    "        \n",
    "        # Delete any columns with more than 25% of 0 values\n",
    "        if (df_cleaned[column]==0).sum() > (len(df_cleaned) * 0.25):\n",
    "            df_cleaned = df_cleaned.drop(column, axis=1)\n",
    "\n",
    "        # Delete any columns with more than 25% of null values\n",
    "        if(df_cleaned[column].isnull()).sum() > (len(df_cleaned) * 0.25):\n",
    "            df_cleaned = df_cleaned.drop(column, axis=1)\n",
    "\n",
    "    # Catches any instances in which neither of the above instances prove true\n",
    "    except Exception as e:\n",
    "        \n",
    "        exception_count+=1\n",
    "\n",
    "\n",
    "df_columns = df_cleaned.columns\n",
    "\n",
    "# Manually remove unnecessary columns\n",
    "df_cleaned = df_cleaned.drop(\"Filename\", axis=1)\n",
    "df_cleaned = df_cleaned.drop(\"From Upload\", axis=1)\n",
    "\n",
    "# Convert [\"Activity Date\"] column into datetime objects (disregarding time)\n",
    "# I realized after the fact that pandas already does this, but I felt bad deleting my work\n",
    "\"\"\"\n",
    "monthDecoder = {\"Jan\": 1, \"Feb\" : 2, \"Mar\" : 3, \"Apr\" : 4, \"May\" : 5, \"Jun\" : 6, \"Jul\" : 7, \"Aug\" : 8, \"Sep\" : 9, \"Oct\" : 10, \"Nov\" : 11, \"Dec\" : 12}\n",
    "\n",
    "for date in df_cleaned[\"Activity Date\"]:\n",
    "    month = date[:3]\n",
    "    month = monthDecoder.get(month)\n",
    "    month = str(month)\n",
    "    \n",
    "    day = date[4:6]\n",
    "    day = day.strip(\",\")\n",
    "    \n",
    "    year = date[7:12]\n",
    "    year = year.strip(\",\")\n",
    "    year = year.strip(\" \")\n",
    "\n",
    "    modified_date = year + \"-\" + month + \"-\" + day\n",
    "    date_obj = datetime.strptime(modified_date, \"%Y-%m-%d\")\n",
    "    df_cleaned[\"Activity Date\"] = df_cleaned[\"Activity Date\"].replace(date, date_obj)\n",
    "\"\"\"\n",
    "endingDate = datetime.strptime(\"2025-2-23\", \"%Y-%m-%d\")\n",
    "df_cleaned[\"Activity Date\"] = pd.to_datetime(df_cleaned[\"ActivityDate\"])\n",
    "    \n",
    "df_cleaned = df_cleaned[df_cleaned[\"Activity Date\"] <= endingDate]\n",
    "print(df_cleaned[\"Activity Date\"])\n",
    "\n",
    "# Remove any data past February 23, 2025 for the sake of this project\n",
    "\n",
    "\n",
    "# HELP!! #\n",
    "# Fill remaining null values \n",
    "df_cleaned.replace(r'^,+$', np.NaN, inplace=True)\n",
    "\n",
    "\n",
    "# Write cleaned data to csv \n",
    "df_cleaned.to_csv(\"df_cleaned.csv\")"
   ]
  }
 ],
 "metadata": {
  "kernelspec": {
   "display_name": "base",
   "language": "python",
   "name": "python3"
  },
  "language_info": {
   "codemirror_mode": {
    "name": "ipython",
    "version": 3
   },
   "file_extension": ".py",
   "mimetype": "text/x-python",
   "name": "python",
   "nbconvert_exporter": "python",
   "pygments_lexer": "ipython3",
   "version": "3.12.7"
  }
 },
 "nbformat": 4,
 "nbformat_minor": 2
}
