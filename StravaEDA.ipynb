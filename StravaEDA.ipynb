{
 "cells": [
  {
   "cell_type": "code",
   "execution_count": 59,
   "metadata": {},
   "outputs": [],
   "source": [
    "import pandas as pd\n",
    "import numpy as np"
   ]
  },
  {
   "cell_type": "markdown",
   "metadata": {},
   "source": [
    "# Personal Strava EDA  \n",
    "\n",
    "Write about the data and attributes here..."
   ]
  },
  {
   "cell_type": "code",
   "execution_count": 60,
   "metadata": {},
   "outputs": [],
   "source": [
    "df = pd.read_csv(\"devyn_strava_activities.csv\")"
   ]
  },
  {
   "cell_type": "markdown",
   "metadata": {},
   "source": [
    "## Cleaning the Data  \n",
    "\n",
    "Write the ways in which you are cleaning the data..."
   ]
  },
  {
   "cell_type": "code",
   "execution_count": 63,
   "metadata": {},
   "outputs": [],
   "source": [
    "df_columns = df.columns\n",
    "df_cleaned = df.copy()\n",
    "exception_count = 0\n",
    "\n",
    "# Deleting columns without enough information\n",
    "for column in df_columns:\n",
    "\n",
    "    try:\n",
    "        \n",
    "        # Delete any columns with more than 25% of 0 values\n",
    "        if (df_cleaned[column]==0).sum() > (len(df_cleaned) * 0.25):\n",
    "            df_cleaned = df_cleaned.drop(column, axis=1)\n",
    "\n",
    "        # Delete any columns with more than 25% of null values\n",
    "        if(df_cleaned[column].isnull()).sum() > (len(df_cleaned) * 0.25):\n",
    "            df_cleaned = df_cleaned.drop(column, axis=1)\n",
    "\n",
    "    except Exception as e:\n",
    "        \n",
    "        exception_count+=1\n",
    "\n",
    "\n",
    "df_columns = df_cleaned.columns\n",
    "# Fill remaining null values \n",
    "df_cleaned.replace(r'^,+$', np.NaN, inplace=True)\n",
    "\n",
    "df_cleaned.to_csv(\"df_cleaned.csv\")"
   ]
  }
 ],
 "metadata": {
  "kernelspec": {
   "display_name": "base",
   "language": "python",
   "name": "python3"
  },
  "language_info": {
   "codemirror_mode": {
    "name": "ipython",
    "version": 3
   },
   "file_extension": ".py",
   "mimetype": "text/x-python",
   "name": "python",
   "nbconvert_exporter": "python",
   "pygments_lexer": "ipython3",
   "version": "3.12.7"
  }
 },
 "nbformat": 4,
 "nbformat_minor": 2
}
