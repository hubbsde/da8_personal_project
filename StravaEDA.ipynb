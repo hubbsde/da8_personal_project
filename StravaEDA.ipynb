{
 "cells": [
  {
   "cell_type": "code",
   "execution_count": 82,
   "metadata": {},
   "outputs": [
    {
     "data": {
      "text/plain": [
       "<module 'utils' from '/Users/devyn/Computer Science/Data Science/da8_personal_project/utils.py'>"
      ]
     },
     "execution_count": 82,
     "metadata": {},
     "output_type": "execute_result"
    }
   ],
   "source": [
    "import pandas as pd\n",
    "import numpy as np\n",
    "from datetime import datetime\n",
    "import utils\n",
    "import importlib\n",
    "\n",
    "importlib.reload(utils)"
   ]
  },
  {
   "cell_type": "markdown",
   "metadata": {},
   "source": [
    "# Personal Strava EDA  \n",
    "\n",
    "Write introduction and author here..."
   ]
  },
  {
   "cell_type": "markdown",
   "metadata": {},
   "source": [
    "Write about `data` and attributes here..."
   ]
  },
  {
   "cell_type": "markdown",
   "metadata": {},
   "source": [
    "## Collecting and Cleaning the Data  \n",
    "\n",
    "Write the ways in which you are cleaning the data...  "
   ]
  },
  {
   "cell_type": "code",
   "execution_count": 83,
   "metadata": {},
   "outputs": [
    {
     "name": "stderr",
     "output_type": "stream",
     "text": [
      "/Users/devyn/Computer Science/Data Science/da8_personal_project/utils.py:136: UserWarning: Could not infer format, so each element will be parsed individually, falling back to `dateutil`. To ensure parsing is consistent and as-expected, please specify a format.\n",
      "  df_cleaned[\"Activity Date\"] = pd.to_datetime(df_cleaned[\"Activity Date\"])\n"
     ]
    }
   ],
   "source": [
    "utils.collectStravaData()\n",
    "\n",
    "utils.collectWeatherData()\n"
   ]
  },
  {
   "cell_type": "markdown",
   "metadata": {},
   "source": [
    "## Strava Activity Stats  \n",
    "\n",
    "Write here why you chose these statistics..."
   ]
  },
  {
   "cell_type": "code",
   "execution_count": 84,
   "metadata": {},
   "outputs": [
    {
     "name": "stdout",
     "output_type": "stream",
     "text": [
      "Total Activities                    158.00\n",
      "Average Active Time (in minutes)     63.81\n",
      "Average Heart Rate                  141.95\n",
      "Average Relative Effort              70.09\n",
      "Relative Effort StDev                49.98\n",
      "Total Rowing Activities              96.00\n",
      "Average RE for Rowing                83.80\n",
      "Total Ride Activities                22.00\n",
      "Average RE for Riding                60.41\n",
      "dtype: float64\n"
     ]
    }
   ],
   "source": [
    "stats_ser = utils.calculateStravaStats()\n",
    "print(stats_ser)"
   ]
  },
  {
   "cell_type": "markdown",
   "metadata": {},
   "source": [
    "For aggregation and hypothesis, maybe I can see if there is a correlatino between shorter workouts and higher heart rate "
   ]
  },
  {
   "cell_type": "markdown",
   "metadata": {},
   "source": [
    "## Visualization"
   ]
  },
  {
   "cell_type": "markdown",
   "metadata": {},
   "source": [
    "## Merged Data  \n",
    "\n",
    "Explain how you are merging the data here..."
   ]
  },
  {
   "cell_type": "code",
   "execution_count": 85,
   "metadata": {},
   "outputs": [],
   "source": [
    "strava_df = pd.read_csv(\"devyn_CLEANED_strava_activities.csv\")\n",
    "weather_df = pd.read_csv(\"Spokane_CLEANED_daily_weather.csv\")\n",
    "\n",
    "merged_df = pd.merge(strava_df, weather_df, on=\"Activity Date\", how=\"inner\")\n",
    "merged_df.to_csv(\"merged_data.csv\")"
   ]
  }
 ],
 "metadata": {
  "kernelspec": {
   "display_name": "base",
   "language": "python",
   "name": "python3"
  },
  "language_info": {
   "codemirror_mode": {
    "name": "ipython",
    "version": 3
   },
   "file_extension": ".py",
   "mimetype": "text/x-python",
   "name": "python",
   "nbconvert_exporter": "python",
   "pygments_lexer": "ipython3",
   "version": "3.12.7"
  }
 },
 "nbformat": 4,
 "nbformat_minor": 2
}
